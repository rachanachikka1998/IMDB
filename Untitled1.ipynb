{
 "cells": [
  {
   "cell_type": "code",
   "execution_count": 1,
   "metadata": {},
   "outputs": [],
   "source": [
    "import django\n",
    "import os\n",
    "os.environ[\"DJANGO_SETTINGS_MODULE\"]=\"movies.settings\"\n",
    "django.setup() "
   ]
  },
  {
   "cell_type": "code",
   "execution_count": 2,
   "metadata": {},
   "outputs": [
    {
     "data": {
      "text/plain": [
       "<QuerySet [{'movie': 6, 'total_product': 66379, 'total_sum': 15794, 'avg': 4.202798531087755}, {'movie': 7, 'total_product': 56640, 'total_sum': 16125, 'avg': 3.512558139534884}, {'movie': 8, 'total_product': 19995, 'total_sum': 6266, 'avg': 3.1910309607405045}]>"
      ]
     },
     "execution_count": 2,
     "metadata": {},
     "output_type": "execute_result"
    }
   ],
   "source": [
    "from ratings.views import top_ten_avg_rating\n",
    "top_ten_avg_rating()"
   ]
  },
  {
   "cell_type": "code",
   "execution_count": 3,
   "metadata": {},
   "outputs": [
    {
     "ename": "NameError",
     "evalue": "name 'MovieRating' is not defined",
     "output_type": "error",
     "traceback": [
      "\u001b[0;31m---------------------------------------------------------------------------\u001b[0m",
      "\u001b[0;31mNameError\u001b[0m                                 Traceback (most recent call last)",
      "\u001b[0;32m<ipython-input-3-ee34a8a8cbf0>\u001b[0m in \u001b[0;36m<module>\u001b[0;34m\u001b[0m\n\u001b[0;32m----> 1\u001b[0;31m MovieRating.objects.annotate(product=F('rating')*F('no_of_ratings')).values('movie').annotate(\n\u001b[0m\u001b[1;32m      2\u001b[0m     \u001b[0mtotal\u001b[0m\u001b[0;34m=\u001b[0m\u001b[0mSum\u001b[0m\u001b[0;34m(\u001b[0m\u001b[0;34m'product'\u001b[0m\u001b[0;34m)\u001b[0m\u001b[0;34m/\u001b[0m \u001b[0;34m(\u001b[0m\u001b[0;36m1.0\u001b[0m \u001b[0;34m*\u001b[0m\u001b[0mSum\u001b[0m\u001b[0;34m(\u001b[0m\u001b[0;34m'no_of_ratings'\u001b[0m\u001b[0;34m)\u001b[0m\u001b[0;34m)\u001b[0m\u001b[0;34m\u001b[0m\u001b[0;34m\u001b[0m\u001b[0m\n\u001b[1;32m      3\u001b[0m )\n",
      "\u001b[0;31mNameError\u001b[0m: name 'MovieRating' is not defined"
     ]
    }
   ],
   "source": [
    "MovieRating.objects.annotate(product=F('rating')*F('no_of_ratings')).values('movie').annotate(\n",
    "    total=Sum('product')/ (1.0 *Sum('no_of_ratings'))\n",
    ")"
   ]
  },
  {
   "cell_type": "code",
   "execution_count": null,
   "metadata": {},
   "outputs": [],
   "source": [
    "from ratings.create_objects import create_all_movies"
   ]
  },
  {
   "cell_type": "code",
   "execution_count": null,
   "metadata": {},
   "outputs": [],
   "source": [
    "create_all_movies()"
   ]
  },
  {
   "cell_type": "raw",
   "metadata": {},
   "source": []
  },
  {
   "cell_type": "code",
   "execution_count": null,
   "metadata": {},
   "outputs": [],
   "source": [
    "s.get(title=casting[\"movie\"])"
   ]
  },
  {
   "cell_type": "code",
   "execution_count": null,
   "metadata": {},
   "outputs": [],
   "source": [
    "create_all_movies_cast()"
   ]
  },
  {
   "cell_type": "code",
   "execution_count": null,
   "metadata": {},
   "outputs": [],
   "source": [
    "from ratings.models import Movie\n",
    "movie=Movie.objects.get(title='iron man')\n",
    "movie.actors.all()"
   ]
  },
  {
   "cell_type": "code",
   "execution_count": null,
   "metadata": {},
   "outputs": [],
   "source": [
    "from ratings.create_objects import create_all_ratings"
   ]
  },
  {
   "cell_type": "code",
   "execution_count": null,
   "metadata": {},
   "outputs": [],
   "source": [
    "create_all_ratings()"
   ]
  },
  {
   "cell_type": "code",
   "execution_count": null,
   "metadata": {},
   "outputs": [],
   "source": [
    "from ratings.models import *\n",
    "actor=Actor.objects.get(name='kangana')\n",
    "print(actor.movies.all())"
   ]
  },
  {
   "cell_type": "code",
   "execution_count": null,
   "metadata": {},
   "outputs": [],
   "source": [
    "from ratings.models import *\n",
    "from django.db.models import *\n",
    "Actor.objects.annotate(count=Count('movies')).order_by('-count').values('count','birth_date')[:5]"
   ]
  },
  {
   "cell_type": "code",
   "execution_count": null,
   "metadata": {},
   "outputs": [],
   "source": [
    "from ratings.views import *\n",
    "top_five_least_five_actors()"
   ]
  },
  {
   "cell_type": "code",
   "execution_count": null,
   "metadata": {},
   "outputs": [],
   "source": [
    "from datetime import date"
   ]
  },
  {
   "cell_type": "code",
   "execution_count": null,
   "metadata": {},
   "outputs": [],
   "source": [
    "str(date.today())\n"
   ]
  },
  {
   "cell_type": "code",
   "execution_count": null,
   "metadata": {},
   "outputs": [],
   "source": [
    "(date(1983,4,5)-date.today()).days"
   ]
  },
  {
   "cell_type": "code",
   "execution_count": null,
   "metadata": {},
   "outputs": [],
   "source": [
    "from ratings.models import *\n",
    "from django.db.models import *\n",
    "Movie.actors"
   ]
  },
  {
   "cell_type": "code",
   "execution_count": null,
   "metadata": {},
   "outputs": [],
   "source": [
    "from datetime import date\n",
    "from ratings.models import *\n",
    "Movie.objects.annotate()\n",
    "Movie.objects.annotate(days=date.today()-F('actors__birth_date')).values('title','days')"
   ]
  },
  {
   "cell_type": "code",
   "execution_count": null,
   "metadata": {},
   "outputs": [],
   "source": [
    "from datetime import date\n",
    "from django.db.models import *\n",
    "\n",
    "ages=Movie.objects.annotate(age=F('actors__birth_date')).values('age','title')\n",
    "for i in ages:\n",
    "    i[\"age\"]=float((date.today()-i[\"age\"]).days/365)\n",
    "    #i[\"decimal_age\"]=i[\"age\"]\n",
    "ages.annotate(avg=Avg('age')).\n"
   ]
  },
  {
   "cell_type": "code",
   "execution_count": null,
   "metadata": {},
   "outputs": [],
   "source": [
    "avg_expression_wrapper = ExpressionWrapper(F('total_product') / (1.0 * F('total_sum')), output_field=FloatField())\n",
    "ratings = MovieRating.objects.annotate(product=F('rating') * F('no_of_ratings')).values('movie').annotate(\n",
    "total_product=Sum('product'), total_sum=Sum('no_of_ratings')).annotate(avg=avg_expression_wrapper).order_by(\n",
    "        '-avg', 'movie__title')[:10]"
   ]
  },
  {
   "cell_type": "code",
   "execution_count": null,
   "metadata": {},
   "outputs": [],
   "source": [
    "from django.db.models import *\n",
    "actors=Actor.objects.filter(=OuterRef('pk'))\n",
    "dates=Movie.objects.filter(actors=OuterRef('pk'))\n",
    "for i in dates:\n",
    "    print(i.title)\n",
    "    print(i.release_date.month)"
   ]
  },
  {
   "cell_type": "code",
   "execution_count": null,
   "metadata": {},
   "outputs": [],
   "source": [
    "from ratings.models import *\n",
    "from django.db.models import *\n",
    "\n",
    "from datetime import date\n",
    "actor_month=Actor.objects.annotate(month=F('birth_date__month')).values('id','month')\n",
    "for actor in actor_month:\n",
    "    actor[\"month\"]=actor[\"month\"].month\n",
    "#print(\"actor_month:\",actor_month[0][\"month\"])\n",
    "\n",
    "#print(actor_month[0].month)\n",
    "Movie.objects.annotate(month=Subquery(actor_month.filter(id=OuterRef('actors')).values('month'))).values('title','month')\n"
   ]
  },
  {
   "cell_type": "code",
   "execution_count": null,
   "metadata": {},
   "outputs": [],
   "source": [
    "import datetime \n",
    "\n",
    "type(datetime.date.month)\n",
    "sub=A\n",
    "print( datetime.date(1988, 9, 15).month)"
   ]
  },
  {
   "cell_type": "code",
   "execution_count": null,
   "metadata": {},
   "outputs": [],
   "source": [
    "from ratings.models import *\n",
    "from django.db.models import *\n",
    "Movie.objects.annotate(birth=F('actors__birth_date')).values('title','actors__birth_date__month')"
   ]
  },
  {
   "cell_type": "code",
   "execution_count": null,
   "metadata": {},
   "outputs": [],
   "source": [
    "MovieCast.objects.filter(movie_id=6).annotate(count=Count('cast__birth_date__month')).values('movie_id','cast__birth_date__month','count').order_by('count')[:1]"
   ]
  },
  {
   "cell_type": "code",
   "execution_count": null,
   "metadata": {},
   "outputs": [],
   "source": [
    "sub=MovieCast.objects.filter(movie_id=OuterRef('pk')).annotate(count=Count('cast__birth_date__month')).values('cast__birth_date__month').order_by('count')[:1]\n",
    "Movie.objects.annotate(month=Subquery(sub)).filter(release_date__month=F('month'))"
   ]
  },
  {
   "cell_type": "code",
   "execution_count": null,
   "metadata": {},
   "outputs": [],
   "source": [
    "Movie.objects.values('title','actors__birth_date__month','release_date__month')"
   ]
  },
  {
   "cell_type": "code",
   "execution_count": null,
   "metadata": {},
   "outputs": [],
   "source": [
    "from ratings.views import movies_released_in_star_month"
   ]
  },
  {
   "cell_type": "code",
   "execution_count": null,
   "metadata": {},
   "outputs": [],
   "source": [
    "movies_released_in_star_month()"
   ]
  },
  {
   "cell_type": "code",
   "execution_count": 2,
   "metadata": {},
   "outputs": [
    {
     "data": {
      "text/plain": [
       "<QuerySet [{'name': 'sam', 'count': 1}, {'name': 'tony stark', 'count': 2}, {'name': 'rajini', 'count': 2}]>"
      ]
     },
     "execution_count": 2,
     "metadata": {},
     "output_type": "execute_result"
    }
   ],
   "source": [
    "from ratings.models import *\n",
    "from django.db.models import *\n",
    "from django.db.models.functions import ExtractMonth\n",
    "\n",
    "sub=Movie.objects.filter(release_date__month=OuterRef('month')).values('id')\n",
    "Actor.objects.annotate(month=ExtractMonth('birth_date')).filter(movies__in=Subquery(sub)).annotate(count=Count(Subquery(sub))).values('name','count')\n",
    "#Actor.objects.annotate(count=Count(Subquery(sub))).values('name','count')"
   ]
  },
  {
   "cell_type": "code",
   "execution_count": 3,
   "metadata": {},
   "outputs": [
    {
     "data": {
      "text/plain": [
       "{'sql': 'SELECT \"ratings_actor\".\"name\", COUNT((SELECT U0.\"id\" FROM \"ratings_movie\" U0 WHERE django_date_extract(\\'month\\', U0.\"release_date\") = (django_date_extract(\\'month\\', \"ratings_actor\".\"birth_date\")))) AS \"count\" FROM \"ratings_actor\" INNER JOIN \"ratings_moviecast\" ON (\"ratings_actor\".\"id\" = \"ratings_moviecast\".\"cast_id\") WHERE \"ratings_moviecast\".\"movie_id\" IN (SELECT U0.\"id\" FROM \"ratings_movie\" U0 WHERE django_date_extract(\\'month\\', U0.\"release_date\") = (django_date_extract(\\'month\\', \"ratings_actor\".\"birth_date\"))) GROUP BY \"ratings_actor\".\"id\", \"ratings_actor\".\"name\", \"ratings_actor\".\"birth_date\", \"ratings_actor\".\"gender\", django_date_extract(\\'month\\', \"ratings_actor\".\"birth_date\")  LIMIT 21',\n",
       " 'time': '0.000'}"
      ]
     },
     "execution_count": 3,
     "metadata": {},
     "output_type": "execute_result"
    }
   ],
   "source": [
    "from django.db import connection\n",
    "connection.queries[-1]"
   ]
  },
  {
   "cell_type": "code",
   "execution_count": null,
   "metadata": {},
   "outputs": [],
   "source": [
    "count=Count(Movie.objects.filter(release_date__month=6))\n",
    "print(count)"
   ]
  },
  {
   "cell_type": "code",
   "execution_count": null,
   "metadata": {},
   "outputs": [],
   "source": [
    "from django.db import connection\n",
    "connection.queries[-1]"
   ]
  },
  {
   "cell_type": "code",
   "execution_count": null,
   "metadata": {},
   "outputs": [],
   "source": [
    "from ratings.models import *\n",
    "from django.db.models import *\n",
    "sub=Actor.objects.filter(birth_date__month=OuterRef('release_date__month'))\n",
    "\n",
    "Movie.objects.annotate(count=Count(Subquery(sub.values('name')))).values('count')"
   ]
  },
  {
   "cell_type": "code",
   "execution_count": null,
   "metadata": {},
   "outputs": [],
   "source": [
    "Movie.objects.annotate(c=F('actors__birth_date__month')).values('title','c')"
   ]
  },
  {
   "cell_type": "code",
   "execution_count": null,
   "metadata": {},
   "outputs": [],
   "source": [
    "sub=Actor.objects.values('movies__release_date__month')\n",
    "sub2=Movie.objects.filter(release_date__month=OuterRef('birth_date__month')).values('id')\n",
    "Actor.objects.filter(birth_date__month__in=Subquery(sub)).annotate(count=Count(Subquery(sub2))).values('name','count')"
   ]
  },
  {
   "cell_type": "code",
   "execution_count": null,
   "metadata": {},
   "outputs": [],
   "source": [
    "Actor.objects.annotate(count=F('movies__release_date__month')).value"
   ]
  },
  {
   "cell_type": "code",
   "execution_count": null,
   "metadata": {},
   "outputs": [],
   "source": []
  }
 ],
 "metadata": {
  "kernelspec": {
   "display_name": "Django Shell-Plus",
   "language": "python",
   "name": "django_extensions"
  },
  "language_info": {
   "codemirror_mode": {
    "name": "ipython",
    "version": 3
   },
   "file_extension": ".py",
   "mimetype": "text/x-python",
   "name": "python",
   "nbconvert_exporter": "python",
   "pygments_lexer": "ipython3",
   "version": "3.7.3"
  }
 },
 "nbformat": 4,
 "nbformat_minor": 2
}
